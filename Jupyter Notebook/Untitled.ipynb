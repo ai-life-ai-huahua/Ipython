{
 "cells": [
  {
   "cell_type": "markdown",
   "metadata": {},
   "source": [
    "# 回归的问题\n",
    " - 拟合度的问题\n"
   ]
  },
  {
   "cell_type": "markdown",
   "metadata": {},
   "source": [
    "# 真实值$Y$和训练的计算值$Y$\n",
    "1.数学上描述数据集的拟合性叫：相关系数。\n",
    "\n",
    "    |-相关系数：用来度量两个向量相关程度的量。\n",
    "    \n",
    "\n",
    "## 相关系数\n",
    "    - 方差\n",
    "  - $r = \\dfrac{Cov(X,Y)}{\\sqrt{(Var(X)Var(Y)}}$\n",
    "    "
   ]
  },
  {
   "cell_type": "code",
   "execution_count": 25,
   "metadata": {},
   "outputs": [],
   "source": [
    "import numpy as np\n",
    "import numpy.random as rd\n",
    "\n",
    "x = rd.uniform(0,1,5)\n",
    "x1 = rd.uniform(0,1,5)\n",
    "r  = np.corrcoef(x,x1) #np里面封装的相关系数计算的方法"
   ]
  },
  {
   "cell_type": "code",
   "execution_count": 26,
   "metadata": {},
   "outputs": [
    {
     "data": {
      "text/plain": [
       "(array([0.2626311 , 0.39605237, 0.91605588, 0.57112165, 0.52040951]),\n",
       " array([[1.        , 0.30870429],\n",
       "        [0.30870429, 1.        ]]))"
      ]
     },
     "execution_count": 26,
     "metadata": {},
     "output_type": "execute_result"
    }
   ],
   "source": [
    "x,r"
   ]
  },
  {
   "cell_type": "code",
   "execution_count": null,
   "metadata": {},
   "outputs": [],
   "source": [
    "'''\n",
    "[\n",
    "    x与x的相关性1  ， x与y的相关性0-1\n",
    "    y与x的相关性0-1  ， y与y的相关性1\n",
    "    \n",
    "]\n",
    "-  误差与相关值\n",
    "    - 绝对值1\n",
    "    - 相关相对度量（sin0 - sin90）\n",
    "'''"
   ]
  },
  {
   "cell_type": "markdown",
   "metadata": {},
   "source": [
    "## 测试相关系数\n",
    "   - 鸢尾花\n",
    "   - 身高与年龄\n",
    "   - 模拟的数据\n",
    "   \n",
    "-"
   ]
  },
  {
   "cell_type": "markdown",
   "metadata": {},
   "source": [
    "1.手工实现的数据"
   ]
  },
  {
   "cell_type": "code",
   "execution_count": 54,
   "metadata": {
    "scrolled": true
   },
   "outputs": [
    {
     "name": "stdout",
     "output_type": "stream",
     "text": [
      "['__abstractmethods__', '__class__', '__delattr__', '__dict__', '__dir__', '__doc__', '__eq__', '__format__', '__ge__', '__getattribute__', '__getstate__', '__gt__', '__hash__', '__init__', '__init_subclass__', '__le__', '__lt__', '__module__', '__ne__', '__new__', '__reduce__', '__reduce_ex__', '__repr__', '__setattr__', '__setstate__', '__sizeof__', '__str__', '__subclasshook__', '__weakref__', '_abc_cache', '_abc_negative_cache', '_abc_negative_cache_version', '_abc_registry', '_decision_function', '_estimator_type', '_get_param_names', '_get_tags', '_more_tags', '_preprocess_data', '_residues', '_set_intercept', 'coef_', 'copy_X', 'fit', 'fit_intercept', 'get_params', 'intercept_', 'n_jobs', 'normalize', 'predict', 'rank_', 'score', 'set_params', 'singular_']\n",
      "0.9731300889856915\n",
      "[[1.69532264]]\n",
      "[3.00774324]\n",
      "[[1.         0.98647356]\n",
      " [0.98647356 1.        ]]\n"
     ]
    },
    {
     "data": {
      "text/plain": [
       "<matplotlib.collections.PathCollection at 0x17091a5d470>"
      ]
     },
     "execution_count": 54,
     "metadata": {},
     "output_type": "execute_result"
    },
    {
     "data": {
      "image/png": "[encoded data removed]",
      "text/plain": [
       "<Figure size 576x432 with 1 Axes>"
      ]
     },
     "metadata": {
      "needs_background": "light"
     },
     "output_type": "display_data"
    }
   ],
   "source": [
    "%matplotlib inline\n",
    "import matplotlib.pyplot as plt\n",
    "import numpy as np\n",
    "import numpy.linalg as la\n",
    "from sklearn.linear_model import LinearRegression #线性回归的封装\n",
    "\n",
    "#加载数据\n",
    "data = np.loadtxt('ex0')\n",
    "#数据格式化\n",
    "X = data[:,1]\n",
    "Y =data[:,2]\n",
    "X = X.reshape(-1,1)\n",
    "Y = Y.reshape(-1,1)\n",
    "\n",
    "#计算线性回归的 斜率+截距\n",
    "regression = LinearRegression()\n",
    "regression.fit(X,Y)\n",
    "#打印相关系数\n",
    "print(dir(regression))  #intercept_ 截距  coef_斜率\n",
    "print(regression.score(X,Y)) #相关系数\n",
    "print(regression.coef_)\n",
    "print(regression.intercept_)\n",
    "\n",
    "print(np.corrcoef(X.T,Y.T))  #np计算\n",
    "#可视化\n",
    "\n",
    "figure  = plt.figure('线性回归可视化',figsize=(8,6))\n",
    "ax = figure.add_axes([0.1,0.1,0.8,0.8])\n",
    "ax.set_xlim(-0.1,1.1)\n",
    "ax.set_ylim(2.5,5.5)\n",
    "\n",
    "ax.scatter(data[:,1],data[:,2],s=16,marker='.',c='r')\n",
    "# 绘制直线\n",
    "# plt.show()\n"
   ]
  },
  {
   "cell_type": "code",
   "execution_count": 104,
   "metadata": {},
   "outputs": [
    {
     "data": {
      "text/plain": [
       "array([[3.176513],\n",
       "       [3.816464],\n",
       "       [4.550095],\n",
       "       [4.256571],\n",
       "       [4.560815],\n",
       "       [3.929515],\n",
       "       [3.52617 ],\n",
       "       [3.156393],\n",
       "       [3.110301],\n",
       "       [3.149813],\n",
       "       [3.476346],\n",
       "       [4.119688],\n",
       "       [4.282233],\n",
       "       [3.486582],\n",
       "       [4.655492],\n",
       "       [3.965162],\n",
       "       [3.5149  ],\n",
       "       [3.125947],\n",
       "       [4.094115],\n",
       "       [3.476039],\n",
       "       [3.21061 ],\n",
       "       [3.190612],\n",
       "       [4.631504],\n",
       "       [4.29589 ],\n",
       "       [3.085028],\n",
       "       [3.44808 ],\n",
       "       [3.16744 ],\n",
       "       [3.364266],\n",
       "       [3.993482],\n",
       "       [3.891471],\n",
       "       [3.143259],\n",
       "       [3.114204],\n",
       "       [3.851484],\n",
       "       [4.621899],\n",
       "       [4.580768],\n",
       "       [3.620992],\n",
       "       [3.580501],\n",
       "       [4.618706],\n",
       "       [3.676867],\n",
       "       [4.641845],\n",
       "       [3.175939],\n",
       "       [4.26498 ],\n",
       "       [3.558448],\n",
       "       [3.436632],\n",
       "       [3.831052],\n",
       "       [3.182853],\n",
       "       [3.498906],\n",
       "       [3.946833],\n",
       "       [3.900583],\n",
       "       [4.238522],\n",
       "       [4.23308 ],\n",
       "       [3.521557],\n",
       "       [3.203344],\n",
       "       [4.278105],\n",
       "       [3.555705],\n",
       "       [3.502661],\n",
       "       [3.859776],\n",
       "       [4.275956],\n",
       "       [3.916191],\n",
       "       [3.587961],\n",
       "       [3.183004],\n",
       "       [4.225236],\n",
       "       [4.231083],\n",
       "       [4.240544],\n",
       "       [3.222372],\n",
       "       [4.021445],\n",
       "       [3.567479],\n",
       "       [3.56258 ],\n",
       "       [4.262059],\n",
       "       [3.208813],\n",
       "       [3.169825],\n",
       "       [4.193949],\n",
       "       [3.491678],\n",
       "       [4.533306],\n",
       "       [3.550108],\n",
       "       [4.636427],\n",
       "       [3.557078],\n",
       "       [3.552874],\n",
       "       [3.494159],\n",
       "       [3.206828],\n",
       "       [3.195266],\n",
       "       [4.221292],\n",
       "       [4.413372],\n",
       "       [4.184347],\n",
       "       [3.742878],\n",
       "       [3.201878],\n",
       "       [4.648964],\n",
       "       [3.510117],\n",
       "       [3.274434],\n",
       "       [3.579622],\n",
       "       [3.489244],\n",
       "       [4.237386],\n",
       "       [3.913749],\n",
       "       [3.22899 ],\n",
       "       [4.286286],\n",
       "       [4.628614],\n",
       "       [3.239536],\n",
       "       [4.457997],\n",
       "       [3.513384],\n",
       "       [3.729674],\n",
       "       [3.834274],\n",
       "       [3.811155],\n",
       "       [3.598316],\n",
       "       [4.692514],\n",
       "       [4.604859],\n",
       "       [3.864912],\n",
       "       [3.184236],\n",
       "       [3.500796],\n",
       "       [3.743365],\n",
       "       [3.622905],\n",
       "       [4.310796],\n",
       "       [3.583357],\n",
       "       [3.901852],\n",
       "       [3.233521],\n",
       "       [3.105266],\n",
       "       [3.865544],\n",
       "       [4.628625],\n",
       "       [4.231213],\n",
       "       [3.791149],\n",
       "       [3.968271],\n",
       "       [4.25391 ],\n",
       "       [3.19471 ],\n",
       "       [3.996503],\n",
       "       [3.904358],\n",
       "       [3.503976],\n",
       "       [4.557545],\n",
       "       [3.699876],\n",
       "       [4.613614],\n",
       "       [3.140401],\n",
       "       [4.206717],\n",
       "       [3.969524],\n",
       "       [4.476096],\n",
       "       [3.136528],\n",
       "       [4.279071],\n",
       "       [3.200603],\n",
       "       [3.299012],\n",
       "       [3.209873],\n",
       "       [3.632942],\n",
       "       [3.248361],\n",
       "       [3.995783],\n",
       "       [3.563262],\n",
       "       [3.649712],\n",
       "       [3.951845],\n",
       "       [3.145031],\n",
       "       [3.181577],\n",
       "       [4.637087],\n",
       "       [3.404964],\n",
       "       [3.873188],\n",
       "       [4.633648],\n",
       "       [3.154768],\n",
       "       [4.623637],\n",
       "       [3.078132],\n",
       "       [3.913596],\n",
       "       [3.221817],\n",
       "       [3.938071],\n",
       "       [3.880822],\n",
       "       [4.176436],\n",
       "       [4.648161],\n",
       "       [3.332312],\n",
       "       [4.240614],\n",
       "       [4.532224],\n",
       "       [4.557105],\n",
       "       [4.610072],\n",
       "       [4.636569],\n",
       "       [4.229813],\n",
       "       [3.50086 ],\n",
       "       [4.245514],\n",
       "       [4.605182],\n",
       "       [3.45434 ],\n",
       "       [3.180775],\n",
       "       [3.38082 ],\n",
       "       [4.56502 ],\n",
       "       [3.279973],\n",
       "       [4.554241],\n",
       "       [4.63352 ],\n",
       "       [4.281037],\n",
       "       [3.844426],\n",
       "       [3.891601],\n",
       "       [3.849728],\n",
       "       [3.492215],\n",
       "       [4.592374],\n",
       "       [4.632025],\n",
       "       [3.75675 ],\n",
       "       [3.133555],\n",
       "       [3.567919],\n",
       "       [4.363382],\n",
       "       [3.560165],\n",
       "       [4.564305],\n",
       "       [4.215055],\n",
       "       [4.174999],\n",
       "       [4.58664 ],\n",
       "       [3.960008],\n",
       "       [3.529963],\n",
       "       [4.213412],\n",
       "       [3.908685],\n",
       "       [3.585821],\n",
       "       [4.374394],\n",
       "       [3.213817],\n",
       "       [3.952681],\n",
       "       [3.129283]])"
      ]
     },
     "execution_count": 104,
     "metadata": {},
     "output_type": "execute_result"
    }
   ],
   "source": [
    "Y"
   ]
  },
  {
   "cell_type": "code",
   "execution_count": 45,
   "metadata": {},
   "outputs": [
    {
     "name": "stdout",
     "output_type": "stream",
     "text": [
      "['__abstractmethods__', '__class__', '__delattr__', '__dict__', '__dir__', '__doc__', '__eq__', '__format__', '__ge__', '__getattribute__', '__getstate__', '__gt__', '__hash__', '__init__', '__init_subclass__', '__le__', '__lt__', '__module__', '__ne__', '__new__', '__reduce__', '__reduce_ex__', '__repr__', '__setattr__', '__setstate__', '__sizeof__', '__str__', '__subclasshook__', '__weakref__', '_abc_cache', '_abc_negative_cache', '_abc_negative_cache_version', '_abc_registry', '_decision_function', '_estimator_type', '_get_param_names', '_get_tags', '_more_tags', '_preprocess_data', '_residues', '_set_intercept', 'coef_', 'copy_X', 'fit', 'fit_intercept', 'get_params', 'intercept_', 'n_jobs', 'normalize', 'predict', 'rank_', 'score', 'set_params', 'singular_']\n",
      "0.9731300889856915\n",
      "[[1.69532264]]\n",
      "[3.00774324]\n",
      "[[1.         0.98647356]\n",
      " [0.98647356 1.        ]]\n"
     ]
    },
    {
     "data": {
      "image/png": "[encoded data removed]",
      "text/plain": [
       "<Figure size 576x432 with 1 Axes>"
      ]
     },
     "metadata": {
      "needs_background": "light"
     },
     "output_type": "display_data"
    }
   ],
   "source": [
    "%matplotlib inline\n",
    "import matplotlib.pyplot as plt\n",
    "import numpy as np\n",
    "import numpy.linalg as la\n",
    "from sklearn.linear_model import LinearRegression #线性回归的封装\n",
    "\n",
    "#加载数据\n",
    "data = np.loadtxt('ex0')\n",
    "#数据格式化\n",
    "X = data[:,1]\n",
    "Y =data[:,2]\n",
    "X = X.reshape(-1,1)\n",
    "Y = Y.reshape(-1,1)\n",
    "\n",
    "#计算线性回归的 斜率+截距\n",
    "regression = LinearRegression()\n",
    "regression.fit(X,Y)\n",
    "#打印相关系数\n",
    "print(dir(regression))  #intercept_ 截距  coef_斜率\n",
    "print(regression.score(X,Y)) #相关系数\n",
    "print(regression.coef_)\n",
    "print(regression.intercept_)\n",
    "\n",
    "print(np.corrcoef(regression.predict(X).T,Y.T))  #np计算\n",
    "#可视化\n",
    "\n",
    "figure  = plt.figure('线性回归可视化',figsize=(8,6))\n",
    "ax = figure.add_axes([0.1,0.1,0.8,0.8])\n",
    "ax.set_xlim(-0.1,1.1)\n",
    "ax.set_ylim(2.5,5.5)\n",
    "#绘制训练样本点\n",
    "ax.scatter(data[:,1],data[:,2],s=16,marker='.',c='r')\n",
    "x_ = rd.uniform(0,1,(100,1))\n",
    "\n",
    "y_ = regression.predict(x_)\n",
    "\n",
    "ax.plot(x_,y_,c='b')\n",
    "# ax.scatter(data[:,1],data[:,2],s=16,marker='.',c='r')\n",
    "# 绘制直线\n",
    "plt.show()"
   ]
  },
  {
   "cell_type": "markdown",
   "metadata": {},
   "source": [
    "# 局部加权回归\n",
    "\n",
    "- 解决欠拟合的问题：\n",
    " - 损失函数采用标准高斯分布（正太分布），得到的误差不是最理想。\n",
    " - 损失函数误差趋近于0\n",
    " 加权的目的就是使得均方差最小：\n",
    " - $J(W) = \\dfrac{1}{2}\\sum\\limits_{i=1}^m(x_iW-y_i)^2$\n",
    " - $J(W) = \\dfrac{1}{2}\\sum\\limits_{i=1}^mp_i(x_iW-y_i)^2$\n",
    " - $W=(X^T\\bar{W}X)^{-1}X^T\\bar{W}Y$\n",
    " - $w^(i)=exp(\\dfrac{(x^{(i)}-x)^2}{-2{\\sigma}^2})$ #正态分布\n",
    "\n",
    "\n",
    "p_i控制均方差的值  均方差大  p_i小   均方差小  p_i大（符合正态分布）\n",
    " "
   ]
  },
  {
   "cell_type": "markdown",
   "metadata": {},
   "source": [
    "# 局部加权的算法规则：\n",
    " - $J(W) = \\dfrac{1}{2}\\sum\\limits_{i=1}^m(x_iW-y_i)^2$\n",
    " - $J(W) = \\dfrac{1}{2}\\sum\\limits_{i=1}^mp_i(x_iW-y_i)^2$\n",
    " - $W=(X^T\\bar{W}X)^{-1}X^T\\bar{W}Y$\n",
    " - $w^(i)=exp(\\dfrac{(x^{(i)}-x)^2}{-2{\\sigma}^2})$ #正态分布\n",
    " \n",
    " - $\\bar{W}其中：对角线非0，非对角线上都是0，对角线上取值：\\bar{w_i}=正态分布的根据$x$与$y$的误差取概率值$\n",
    "\n"
   ]
  },
  {
   "cell_type": "markdown",
   "metadata": {},
   "source": [
    "1.已知一个样本集合X,Y\n",
    "\n",
    "\n",
    "2.预测值一个x_,根据x_,计算局部加权矩阵$\\bar{W}$"
   ]
  },
  {
   "cell_type": "markdown",
   "metadata": {},
   "source": [
    "- 局部加权的实现代码"
   ]
  },
  {
   "cell_type": "code",
   "execution_count": 103,
   "metadata": {},
   "outputs": [
    {
     "name": "stdout",
     "output_type": "stream",
     "text": [
      "\n"
     ]
    },
    {
     "data": {
      "image/png": "[encoded data removed]",
      "text/plain": [
       "<Figure size 576x432 with 1 Axes>"
      ]
     },
     "metadata": {
      "needs_background": "light"
     },
     "output_type": "display_data"
    }
   ],
   "source": [
    "%matplotlib inline\n",
    "import numpy as np\n",
    "import numpy.linalg as la\n",
    "import numpy.random as rd\n",
    "\n",
    "\n",
    "sigma = 0.01\n",
    "def normal(x_,x_i):\n",
    "    #计算x_与xi的均方差 （上面w_i的公式）\n",
    "    diff = x_i - x_\n",
    "    sq = np.matmul(diff,diff.T)/(-2.0*sigma**2) #这是是内积  不是标量不能直接相×\n",
    "    res = np.exp(sq)\n",
    "    return res\n",
    "    \n",
    "\n",
    "#根据\n",
    "def loacal_weight(x_):\n",
    "    data = np.loadtxt('ex0')\n",
    "    X_data=data[:,1]\n",
    "    Y_data = data[:,2]\n",
    "    #给x加上列，这个列全部为1\n",
    "    X = np.zeros((X_data.shape[0],2),dtype=np.float)\n",
    "    X[:,0]=X_data\n",
    "    X[:,1]=1\n",
    "    Y = Y_data.reshape((Y_data.shape[0],1))\n",
    "    #根据x_,X,Y计算加权矩阵\n",
    "    W_ = np.zeros((X.shape[0],X.shape[0]),dtype = np.float)\n",
    "    for i in range(X.shape[0]):\n",
    "        W_[i,i]=normal(x_,X[i,:])#W_其中：对角线非0，非对角线上都是0，对角线上取值：w_i=正态分布的根据x与y的误差取概率值\n",
    "    #g根据加权计算出W\n",
    "    W = np.matmul(np.matmul(np.matmul(la.inv(np.matmul(np.matmul(X.T,W_),X)),X.T),W_),Y)  #la.inv逆矩阵\n",
    "    #根据W计算Y   \n",
    "    y_= np.matmul(x_,W)\n",
    "    \n",
    "    return y_\n",
    "loacal_weight([0.247809,1])\n",
    "\n",
    "#k可视化\n",
    "%matplotlib inline\n",
    "import matplotlib.pyplot as plt\n",
    "\n",
    "figure = plt.figure('局部加权回归',figsize=(8,6))\n",
    "ax = figure.add_axes([0.1,0.1,0.8,0.8])\n",
    "ax.set_xlim(-0.1,1.1)\n",
    "ax.set_ylim(2.5,5.5)\n",
    "#散点图\n",
    "ax.scatter(data[:,1],data[:,2],s=4,c='r',marker='o')\n",
    "#虚拟点，画回归后的曲线\n",
    "num=1000\n",
    "x_line = np.linspace(-0.1,1.1,num)\n",
    "print()\n",
    "#构造测试样本\n",
    "x_test = np.zeros((num,2),dtype=np.float)\n",
    "x_test[:,0] = x_line\n",
    "x_test[:,1] = 1\n",
    "\n",
    "#计算测试样本的预测值\n",
    "y_test = np.zeros((num,1),dtype=np.float)\n",
    "for idx in range(num):\n",
    "    y_test[idx] = loacal_weight(x_test[idx,:])\n",
    "ax.plot(x_line,y_test,color=(0,0,1,1))\n",
    "plt.show()\n"
   ]
  },
  {
   "cell_type": "markdown",
   "metadata": {},
   "source": [
    "1.线性回归实际上是局部加权回归的特列\n",
    " - sigma>1实际上是线性回归（正态分布N（0，1））\n",
    " - sigma越小拟合度越高，注意过拟合"
   ]
  },
  {
   "cell_type": "markdown",
   "metadata": {},
   "source": [
    "# Ridge回归\n",
    "- 岭回归\n"
   ]
  },
  {
   "cell_type": "markdown",
   "metadata": {},
   "source": [
    "- 任何形状的矩阵M\n",
    "   - 可以分解：$M= U \\Sigma V^H$\n",
    "       - $\\Sigma$ 对角矩阵\n",
    "       - U与V是正交矩阵：$U^TU=I$  $I$单位矩阵"
   ]
  },
  {
   "cell_type": "markdown",
   "metadata": {},
   "source": [
    "- 求解公式\n",
    "- 从W回推损失函数，回推概率模型"
   ]
  },
  {
   "cell_type": "markdown",
   "metadata": {},
   "source": [
    "$W = (X^TX+\\lambda{I})^{-1}X^TY$  #岭回归求解公式\n",
    "\n",
    "$W=V(\\Sigma^T\\Sigma+\\lambda{I})^{-1}\\Sigma^TU^TY$\n",
    "\n",
    "只要保证$(\\Sigma^T\\Sigma+\\lambda{I})$满足可逆，矩阵就有解。 #对角矩阵：对角线上都不为0，可逆"
   ]
  },
  {
   "cell_type": "markdown",
   "metadata": {},
   "source": [
    "$\\Sigma^T\\Sigma$ 这个矩阵，对角线上值的平方 ==》平方>0\n",
    " -  只要$\\lambda>0$,矩阵可逆"
   ]
  },
  {
   "cell_type": "markdown",
   "metadata": {},
   "source": [
    "由上面的推导可知：\n",
    "\n",
    "$W = (X^TX+\\lambda{I})^{-1}X^TY$  #岭回归求解公式\n",
    "-  只要$\\lambda>0$,矩阵可逆"
   ]
  },
  {
   "cell_type": "code",
   "execution_count": 166,
   "metadata": {},
   "outputs": [
    {
     "name": "stdout",
     "output_type": "stream",
     "text": [
      "[[1.68255184]\n",
      " [2.99898454]]\n"
     ]
    },
    {
     "data": {
      "image/png": "[encoded data removed]",
      "text/plain": [
       "<Figure size 576x432 with 1 Axes>"
      ]
     },
     "metadata": {
      "needs_background": "light"
     },
     "output_type": "display_data"
    }
   ],
   "source": [
    "#岭回归的代码实现\n",
    "%matplotlib inline\n",
    "import matplotlib.pyplot as plt\n",
    "import numpy as np\n",
    "import numpy.random as rd\n",
    "import numpy.linalg as la\n",
    "\n",
    "#加载数据\n",
    "data = np.loadtxt('ex0')\n",
    "X_data = data[:,1]\n",
    "Y_data = data[:,2]\n",
    "\n",
    "X = np.zeros((X_data.shape[0],2),dtype=np.float)\n",
    "X[:,0] = X_data\n",
    "X[:,1] = 1\n",
    "\n",
    "Y = Y_data.reshape((Y_data.shape[0],1))\n",
    "                   \n",
    "#计算W\n",
    "p_lambda = 1\n",
    "S1 = np.matmul(X.T,X)\n",
    "S2= S1 + p_lambda*np.eye(X.shape[1])\n",
    "S3 = la.inv(S2)\n",
    "S4 = np.matmul(S3,X.T)\n",
    "W = np.matmul(S4,Y)\n",
    "print(W)\n",
    "#预测\n",
    "#\n",
    "num = 100\n",
    "x_ = np.linspace(-0.1,1.1,num)\n",
    "x_test = np.zeros((num,2),dtype=np.float)\n",
    "x_test[:,0] = x_\n",
    "x_test[:,1] = 1\n",
    "y_test = np.matmul(x_test,W)\n",
    "#预测可视化\n",
    "figure = plt.figure('岭回归',figsize=(8,6))\n",
    "\n",
    "ax = figure.add_axes([0.1,0.1,0.8,0.8])\n",
    "ax.scatter(data[:,1],data[:,2],s=9,c='r')\n",
    "ax.plot(x_test[:,0],y_test,c='b')\n",
    "plt.show()"
   ]
  },
  {
   "cell_type": "code",
   "execution_count": 176,
   "metadata": {},
   "outputs": [
    {
     "name": "stdout",
     "output_type": "stream",
     "text": [
      "[[1.69433049]]\n",
      "[3.00822773]\n"
     ]
    }
   ],
   "source": [
    "# 使用sklearn实现岭回归\n",
    "from sklearn.linear_model import Ridge\n",
    "import numpy as np\n",
    "regression = Ridge(0.01,fit_intercept=True)\n",
    "data = np.loadtxt('ex0')\n",
    "X_DATA = data[:,1]\n",
    "Y_DATA = data[:,2]\n",
    "#训练\n",
    "X_DATA = X_DATA.reshape(-1,1)  #-1 代表任意行数\n",
    "Y_DATA = Y_DATA.reshape(-1,1)\n",
    "\n",
    "regression.fit(X_DATA,Y_DATA)\n",
    "\n",
    "print(regression.coef_)\n",
    "print(regression.intercept_)\n"
   ]
  },
  {
   "cell_type": "markdown",
   "metadata": {},
   "source": [
    "# 岭回归总结\n",
    "- 线性回归\n",
    "\n",
    " 1.假设数据满足线性模型$Y=XW$\n",
    " \n",
    " 2.线性模型存在误差：$Y=XW+\\epsilon$\n",
    " \n",
    " 3.假设误差满足正态分布：$\\epsilon ~ N(\\mu,\\sigma) = N(0,1)$\n",
    " \n",
    " 4.所以样本的误差概率：似然函数$L(W)$\n",
    " \n",
    " 5.对似然数求自然对数，推导求最大概率，转变成求最小值：方差公式（损失函数）：$loss = \\dfrac{1}{2}\\sum\\limits_{i=1}^{n}(y_i-x_iW)^2$\n",
    " \n",
    " 6.求概率最大-->求损失函数最小：最小二乘法：$W = (X^TX)^{-1}XY$"
   ]
  },
  {
   "cell_type": "markdown",
   "metadata": {},
   "source": [
    "- 岭回归模型\n",
    "    - 假设数据满足线性模型$Y=XW$\n",
    "    - 线性模型存在误差\n",
    "    - 误差(误差的后验模型)：测量误差：$\\epsilon$满足正态分布$N（0，\\mu）$,系数也存在误差且满足正态分布$N(\\tau)$\n",
    "    - 概率似然函数：$L(W)$\n",
    "    -  概率最大，误差最小\n",
    "    - $\\lambda=\\dfrac{1}{\\tau^2}$  -->方差平方的倒数>0\n",
    "    - 最小值模型：损失函数$\\dfrac{1}{2}\\sum\\limits_{i=1}^n (y_i-x_iW)^2+ \\lambda\\sum\\limits_{i=1}^nw_i^2$\n",
    "    \n",
    "- 线性回归式岭回归的特列：权重是系数是固定，没有误差（方差=0，$\\lambda=0$）"
   ]
  },
  {
   "cell_type": "markdown",
   "metadata": {},
   "source": [
    "- 共同点\n",
    "    - 线性回归：线性\n",
    "    - 岭回归：线性\n",
    "    - LASSON回归：线性\n",
    "\n",
    "- 差异：\n",
    "    - 线性回归：\n",
    "        - Y值存在误差，服从正态分布$N(0,\\sigma)$\n",
    "        - 权重系数$w_i$没有误差\n",
    "        - 损失函数：$loss =\\dfrac{1}{2}\\sum(y_i-x_iW)^2 $\n",
    "    - 岭回归：=线性回归+惩罚项（二范数）\n",
    "        - Y值存在误差，服从正态分布$N(0,\\sigma)$\n",
    "        - 权重系数$w_i$服从$N(0,\\tau^2)$:正态分布\n",
    "        - 损失函数：$loss =\\dfrac{1}{2}\\sum(y_i-x_iW)^2 +\\dfrac{1}{\\tau^2}\\sum{w_i}^2 $\n",
    "    - LASSON回归：=线性回归 + 惩罚项（一范数）\n",
    "         - Y值存在误差，服从正态分布$N(0,\\sigma)$\n",
    "        - 权重系数$w_i$服从$L(0,\\tau^2)$:拉普拉斯分布\n",
    "        - 损失函数：$loss =\\dfrac{1}{2}\\sum(y_i-x_iW)^2 +\\dfrac{1}{\\tau^2}\\sum{|w_i|}^2 $\n",
    "    - 0范数\n",
    "    \n",
    "        $w_i,i=1\\dots n$ 非0个数=0范数"
   ]
  },
  {
   "cell_type": "code",
   "execution_count": null,
   "metadata": {},
   "outputs": [],
   "source": []
  },
  {
   "cell_type": "code",
   "execution_count": null,
   "metadata": {},
   "outputs": [],
   "source": []
  },
  {
   "cell_type": "code",
   "execution_count": null,
   "metadata": {},
   "outputs": [],
   "source": []
  },
  {
   "cell_type": "code",
   "execution_count": null,
   "metadata": {},
   "outputs": [],
   "source": []
  },
  {
   "cell_type": "code",
   "execution_count": null,
   "metadata": {},
   "outputs": [],
   "source": []
  },
  {
   "cell_type": "code",
   "execution_count": null,
   "metadata": {},
   "outputs": [],
   "source": []
  },
  {
   "cell_type": "code",
   "execution_count": null,
   "metadata": {},
   "outputs": [],
   "source": []
  },
  {
   "cell_type": "code",
   "execution_count": null,
   "metadata": {},
   "outputs": [],
   "source": []
  }
 ],
 "metadata": {
  "kernelspec": {
   "display_name": "Python 3",
   "language": "python",
   "name": "python3"
  },
  "language_info": {
   "codemirror_mode": {
    "name": "ipython",
    "version": 3
   },
   "file_extension": ".py",
   "mimetype": "text/x-python",
   "name": "python",
   "nbconvert_exporter": "python",
   "pygments_lexer": "ipython3",
   "version": "3.6.6"
  }
 },
 "nbformat": 4,
 "nbformat_minor": 2
}
